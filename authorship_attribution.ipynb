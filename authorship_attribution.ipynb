{
 "cells": [
  {
   "cell_type": "markdown",
   "metadata": {},
   "source": [
    "# NLP Final Project: Authorship Attribution\n",
    "\n",
    "## Yuval Timen\n",
    "\n",
    "We will be exploring the task of Authorship Attribution - trying to assign to each piece of text the author who wrote it. We will be looking at the works of Aristotle, Friedrich Nietzsche, William Shakespeare, Henry Wadsworth Longfellow, Percy Bysshe Shelley, Winston Churchill (the American author, not the British Prime Minister), and Robert Browning. All data was collected from Project Gutenburg."
   ]
  },
  {
   "cell_type": "code",
   "execution_count": 6,
   "metadata": {},
   "outputs": [],
   "source": [
    "import re\n",
    "import numpy as np\n",
    "import pandas as pd\n",
    "import matplotlib.pyplot as plt\n",
    "\n",
    "%matplotlib inline"
   ]
  },
  {
   "cell_type": "markdown",
   "metadata": {},
   "source": [
    "## Import the data"
   ]
  },
  {
   "cell_type": "code",
   "execution_count": 19,
   "metadata": {
    "scrolled": true
   },
   "outputs": [
    {
     "name": "stdout",
     "output_type": "stream",
     "text": [
      "{'O', 'r', '\\n', '4', '_', ' ', 'V', 'c', 'K', ')', 'z', 'M', ',', '3', 'Z', 'y', ';', '2', 'v', '0', 'h', 'Y', 'U', 'R', 's', '1', '.', '6', 'b', 'l', 'H', 'w', 'o', '*', '5', 'm', 'u', 'E', \"'\", 'd', '8', 'B', 'I', '?', 'f', 'J', 'A', '&', 'n', '-', 'D', 'N', 'X', 'T', 'p', '9', 'C', 'a', ']', 'P', 'F', '(', '!', '\"', 'S', 'i', 'W', 'k', 'Q', 'q', '7', 'e', 'g', 'j', '=', 'L', ':', 'x', 't', '[', 'G'}\n"
     ]
    }
   ],
   "source": [
    "# Importing the raw data\n",
    "# Each data file is a String\n",
    "with open('./data_files/aristotle.txt', 'r') as f1:\n",
    "    data_aristotle = f1.read()\n",
    "\n",
    "with open('./data_files/browning.txt', 'r') as f2:\n",
    "    data_browning = f2.read()\n",
    "    \n",
    "with open('./data_files/churchill.txt', 'r') as f3:\n",
    "    data_churchill = f3.read()\n",
    "    \n",
    "with open('./data_files/longfellow.txt', 'r') as f4:\n",
    "    data_longfellow = f4.read()\n",
    "    \n",
    "with open('./data_files/nietzsche.txt', 'r') as f5:\n",
    "    data_nietzsche = f5.read()\n",
    "    \n",
    "with open('./data_files/shakespeare.txt', 'r') as f6:\n",
    "    data_shakespeare = f6.read()\n",
    "    \n",
    "with open('./data_files/shelley.txt', 'r') as f7:\n",
    "    data_shelley = f7.read()\n",
    "    \n",
    "\n",
    "print(set(list(data_shelley)))"
   ]
  },
  {
   "cell_type": "markdown",
   "metadata": {},
   "source": [
    "## Preprocessing and cleaning"
   ]
  },
  {
   "cell_type": "code",
   "execution_count": null,
   "metadata": {},
   "outputs": [],
   "source": [
    "# Clean our data and return it as a list of sentences\n",
    "\n",
    "# This function takes in a String of data and\n",
    "# returns a list of sentences. It also removes\n",
    "# all punctuation, symbols, and numbers, as well\n",
    "# as quotation marks. Finally, we make all \n",
    "# upper-case into lower-case.\n",
    "def clean_data(data):\n",
    "    regex_numbers = r'[0-9]'\n",
    "    regex_amounts = '£[0-9]+'\n",
    "    regex_punctuation = r'([·£־§”$&*ᵒ%+=`.,;:_\"\\/\\\\\\(\\)\\[\\]!?<>]|--)'\n",
    "    \n",
    "    \n",
    "    # Expressions matching a single quote that:\n",
    "    # - precede a word\n",
    "    # - follow a word\n",
    "    # - are not next to a word\n",
    "    regex_single_quote_start = \"([^a-zA-Z])\\\\'([a-zA-Z])\"\n",
    "    regex_single_quote_end = \"([a-zA-Z])\\\\'([^a-zA-Z])\"\n",
    "    regex_single_quote_standalone = \"([^a-zA-Z])\\\\'([^a-zA-Z])\"\n",
    "    \n",
    "    # Expressions matching symbols/special characters\n",
    "    # Some symbols can be replaced with ascii characters,\n",
    "    # such as æ -> ae, or È -> e\n",
    "    regex_replaceable_ae = '[Ææ]'\n",
    "    regex_replaceable_c = '[Çç]'\n",
    "    regex_replaceable_a = '[ÀÁÂÄàáâä]'\n",
    "    regex_replaceable_e = '[ÉÊÈêéèēë]'\n",
    "    regex_replaceable_oe = '[Œœ]'\n",
    "    regex_replaceable_u = '[ÜÛüûùú]'\n",
    "    regex_replaceable_i = '[ÏÎìïî]'\n",
    "    regex_replaceable_o = '[ÔÖôöòó]'\n",
    "    \n",
    "    # Some words are entirely non-English, and must be transformed\n",
    "    # to a special token. \n",
    "    regex_greek = 'ὔνΣῡὝύᾴαδθυοπὶἀὖἄἔἆωῥγτῃῆάζἰἤύόχέῶΘὸὴρόὃῑξφηΙμἐλΧςώὼιίάῦβήἈ᾽ἑὲὀεἴἱσκέ'\n",
    "    regex_hebrew = 'ןזסשדטתאהלכרפךחמבצנףוםקעיץג'\n",
    "    \n",
    "    \n",
    "    \n",
    "    \n",
    "    \n",
    "    \n",
    "    regex_special_chars = None\n",
    "    \n",
    "    \n",
    "    output = []\n",
    "    \n",
    "    for sent in sentences:\n",
    "        tmp = sent.lower()\n",
    "        tmp = re.sub(regex_punctuation, ' ', tmp)\n",
    "        tmp = re.sub(regex_numbers, ' ', tmp)\n",
    "        tmp = re.sub(regex_single_quote_start, r'\\1 \\2', tmp)\n",
    "        tmp = re.sub(regex_single_quote_end, r'\\1 \\2', tmp)\n",
    "        tmp = re.sub(regex_single_quote_standalone, r'\\1 \\2', tmp)\n",
    "        output.append(tmp)\n",
    "    \n",
    "    return output\n",
    "    \n",
    "    "
   ]
  }
 ],
 "metadata": {
  "kernelspec": {
   "display_name": "Python 3",
   "language": "python",
   "name": "python3"
  },
  "language_info": {
   "codemirror_mode": {
    "name": "ipython",
    "version": 3
   },
   "file_extension": ".py",
   "mimetype": "text/x-python",
   "name": "python",
   "nbconvert_exporter": "python",
   "pygments_lexer": "ipython3",
   "version": "3.7.4"
  }
 },
 "nbformat": 4,
 "nbformat_minor": 4
}
