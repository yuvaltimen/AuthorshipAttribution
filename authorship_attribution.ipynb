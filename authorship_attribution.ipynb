{
 "cells": [
  {
   "cell_type": "markdown",
   "metadata": {},
   "source": [
    "# NLP Final Project: Authorship Attribution\n",
    "\n",
    "## Yuval Timen\n",
    "\n",
    "##### We will be exploring the task of Authorship Attribution - trying to assign to each piece of text the author who wrote it. We will be looking at the works of Aristotle, Friedrich Nietzsche, William Shakespeare, Henry Wadsworth Longfellow, Percy Bysshe Shelley, Winston Churchill (the American author, not the British Prime Minister), and Robert Browning. All data was collected from Project Gutenburg. \n",
    "\n",
    "##### We\n"
   ]
  },
  {
   "cell_type": "code",
   "execution_count": null,
   "metadata": {},
   "outputs": [],
   "source": []
  }
 ],
 "metadata": {
  "kernelspec": {
   "display_name": "Python 3",
   "language": "python",
   "name": "python3"
  },
  "language_info": {
   "codemirror_mode": {
    "name": "ipython",
    "version": 3
   },
   "file_extension": ".py",
   "mimetype": "text/x-python",
   "name": "python",
   "nbconvert_exporter": "python",
   "pygments_lexer": "ipython3",
   "version": "3.7.4"
  }
 },
 "nbformat": 4,
 "nbformat_minor": 4
}
